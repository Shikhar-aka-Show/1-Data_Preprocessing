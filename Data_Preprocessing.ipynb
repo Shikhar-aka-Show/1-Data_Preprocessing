{
 "cells": [
  {
   "cell_type": "markdown",
   "id": "f6aeea4c-a3be-4a4e-83f3-cfcce94a0ff2",
   "metadata": {},
   "source": [
    "<h2>Importing the Libraries\n"
   ]
  },
  {
   "cell_type": "code",
   "execution_count": 22,
   "id": "a2d503e3-c97d-494f-ace4-8ffb475b4eda",
   "metadata": {},
   "outputs": [],
   "source": [
    "import  numpy as np # This is used for the Calculation  \n",
    "import matplotlib.pyplot as plt # ploting the garph \n",
    "import pandas as pd # it's used for the Analysing the Graph and Data Sets "
   ]
  },
  {
   "cell_type": "markdown",
   "id": "559ba8d3-b0ee-4dea-9aa6-4d6bb0acc75d",
   "metadata": {},
   "source": [
    "<h2> Importing the Data Set \n"
   ]
  },
  {
   "cell_type": "code",
   "execution_count": 12,
   "id": "0e7c4634-0aba-457f-bf66-f4d75e1edefb",
   "metadata": {},
   "outputs": [
    {
     "name": "stdout",
     "output_type": "stream",
     "text": [
      "[['France' 44.0 72000.0]\n",
      " ['Spain' 27.0 48000.0]\n",
      " ['Germany' 30.0 54000.0]\n",
      " ['Spain' 38.0 61000.0]\n",
      " ['Germany' 40.0 nan]\n",
      " ['France' 35.0 58000.0]\n",
      " ['Spain' nan 52000.0]\n",
      " ['France' 48.0 79000.0]\n",
      " ['Germany' 50.0 83000.0]\n",
      " ['France' 37.0 67000.0]]\n",
      "['No' 'Yes' 'No' 'No' 'Yes' 'Yes' 'No' 'Yes' 'No' 'Yes']\n"
     ]
    }
   ],
   "source": [
    "dataset = pd.read_csv('Data.csv') # This read the Data from the Data CSV file \n",
    "X = dataset.iloc[:, :-1].values# This store the all the row and all the column except the last column \n",
    "Y = dataset.iloc[:, -1].values#This store the last column which you have left above \n",
    "print(X)\n",
    "print(Y)\n"
   ]
  },
  {
   "cell_type": "markdown",
   "id": "f882529f-e197-40d7-b179-13ce5118cc17",
   "metadata": {},
   "source": [
    "<h2>Taking care of missing data "
   ]
  },
  {
   "cell_type": "code",
   "execution_count": 23,
   "id": "5f017fc3-8080-4477-990f-2f7f79aff4b1",
   "metadata": {},
   "outputs": [
    {
     "name": "stdout",
     "output_type": "stream",
     "text": [
      "[['France' 44.0 72000.0]\n",
      " ['Spain' 27.0 48000.0]\n",
      " ['Germany' 30.0 54000.0]\n",
      " ['Spain' 38.0 61000.0]\n",
      " ['Germany' 40.0 63777.77777777778]\n",
      " ['France' 35.0 58000.0]\n",
      " ['Spain' 38.77777777777778 52000.0]\n",
      " ['France' 48.0 79000.0]\n",
      " ['Germany' 50.0 83000.0]\n",
      " ['France' 37.0 67000.0]]\n"
     ]
    }
   ],
   "source": [
    "from sklearn.impute import SimpleImputer #Use of Simple Imputer is to Handle the missing Value like NaN \n",
    "imputer = SimpleImputer(missing_values=np.nan, strategy='mean')# Missing _value = np.nan tells that which type of value you have to remove it \n",
    "imputer.fit(X[: , 1:3]) #imputer will use this value to calculate the Mean value and use it to replace it \n",
    "X[: , 1:3] = imputer.transform(X[: , 1:3]) # this line will replace the missing value and it will again transform it . \n",
    "print(X)\n",
    "            \n"
   ]
  },
  {
   "cell_type": "markdown",
   "id": "aa81865c-4ef6-4bc0-b940-701e3ddbd3ce",
   "metadata": {},
   "source": [
    "<h2>Encoding the Independent Variable "
   ]
  },
  {
   "cell_type": "code",
   "execution_count": 29,
   "id": "ba557e62-7fe4-459d-bd19-dd5862c82c21",
   "metadata": {},
   "outputs": [
    {
     "name": "stdout",
     "output_type": "stream",
     "text": [
      "[[1.0 0.0 1.0 0.0 0.0 44.0 72000.0]\n",
      " [0.0 1.0 0.0 0.0 1.0 27.0 48000.0]\n",
      " [0.0 1.0 0.0 1.0 0.0 30.0 54000.0]\n",
      " [0.0 1.0 0.0 0.0 1.0 38.0 61000.0]\n",
      " [0.0 1.0 0.0 1.0 0.0 40.0 63777.77777777778]\n",
      " [1.0 0.0 1.0 0.0 0.0 35.0 58000.0]\n",
      " [0.0 1.0 0.0 0.0 1.0 38.77777777777778 52000.0]\n",
      " [1.0 0.0 1.0 0.0 0.0 48.0 79000.0]\n",
      " [0.0 1.0 0.0 1.0 0.0 50.0 83000.0]\n",
      " [1.0 0.0 1.0 0.0 0.0 37.0 67000.0]]\n"
     ]
    }
   ],
   "source": [
    "from sklearn.compose import ColumnTransformer # Helpful in Dealing with the Column transformation and applyying operation on the selective column \n",
    "from sklearn.preprocessing import OneHotEncoder # ( Red , Green , Blue ) ----- > ( 0 , 1 , 2 ) which is useful in the ML algorithm \n",
    "ct = ColumnTransformer( transformers = [('encoder' , OneHotEncoder() , [0])] , remainder = 'passthrough') # you are applying OneHotEncoder here on the first column after that you can leave all the rest column unchanged that's what is going  in this part \n",
    "X = np.array(ct.fit_transform(X))#The resulting X will be a NumPy array with the first column converted into multiple one-hot encoded columns.\n",
    "print(X)\n"
   ]
  },
  {
   "cell_type": "markdown",
   "id": "73b9d72b-8a72-4478-9c0a-7ec6a88c21c4",
   "metadata": {},
   "source": [
    "<h2>Encoding the Dependent variable"
   ]
  },
  {
   "cell_type": "code",
   "execution_count": 30,
   "id": "bcd86fd1-cab5-4e7d-92d6-2d41053ea697",
   "metadata": {},
   "outputs": [
    {
     "name": "stdout",
     "output_type": "stream",
     "text": [
      "[0 1 0 0 1 1 0 1 0 1]\n"
     ]
    }
   ],
   "source": [
    "from sklearn.preprocessing import LabelEncoder # Convert the Categorical Value into the Numerical Value which we are looog forward \n",
    "le = LabelEncoder() # we have created the class for the LabelEncoder and assign with le \n",
    "y = le.fit_transform(y)# it convert your value into the Numerical value \n",
    "print(y)\n",
    "\n"
   ]
  },
  {
   "cell_type": "markdown",
   "id": "bddd611c-ca83-4c60-b3e7-ce5b4d013568",
   "metadata": {},
   "source": [
    "<h2> Splitting the Dataset into the Train and Testing dataset "
   ]
  },
  {
   "cell_type": "code",
   "execution_count": 31,
   "id": "1c118e9f-b0cf-490e-bb7b-b01e3c8731a2",
   "metadata": {},
   "outputs": [
    {
     "name": "stdout",
     "output_type": "stream",
     "text": [
      "[[0.0 1.0 0.0 0.0 1.0 38.77777777777778 52000.0]\n",
      " [0.0 1.0 0.0 1.0 0.0 40.0 63777.77777777778]\n",
      " [1.0 0.0 1.0 0.0 0.0 44.0 72000.0]\n",
      " [0.0 1.0 0.0 0.0 1.0 38.0 61000.0]\n",
      " [0.0 1.0 0.0 0.0 1.0 27.0 48000.0]\n",
      " [1.0 0.0 1.0 0.0 0.0 48.0 79000.0]\n",
      " [0.0 1.0 0.0 1.0 0.0 50.0 83000.0]\n",
      " [1.0 0.0 1.0 0.0 0.0 35.0 58000.0]]\n",
      "[[0.0 1.0 0.0 1.0 0.0 30.0 54000.0]\n",
      " [1.0 0.0 1.0 0.0 0.0 37.0 67000.0]]\n",
      "[0 1 0 0 1 1 0 1]\n",
      "[0 1]\n"
     ]
    }
   ],
   "source": [
    "from sklearn.model_selection import train_test_split # use to split our data \n",
    "X_train , X_test , y_train , y_test = train_test_split ( X , y , test_size = 0.2 , random_state = 1 ) # you have given the Input , output and ratio in which your data should be divided that's how the things goes \n",
    "print(X_train)\n",
    "print(X_test ) \n",
    "print(y_train)\n",
    "print(y_test)"
   ]
  },
  {
   "cell_type": "markdown",
   "id": "17b21a7e-72be-4027-838e-3b6a39f94703",
   "metadata": {},
   "source": [
    "<h2>Feature Scaling "
   ]
  },
  {
   "cell_type": "code",
   "execution_count": 33,
   "id": "88aceccf-d778-4da5-b769-b5282716d684",
   "metadata": {},
   "outputs": [
    {
     "name": "stdout",
     "output_type": "stream",
     "text": [
      "[[-0.77459667  0.77459667 -0.77459667  1.73205081 -0.77459667 -1.46618179\n",
      "  -0.9069571 ]\n",
      " [ 1.29099445 -1.29099445  1.29099445 -0.57735027 -0.77459667 -0.44973664\n",
      "   0.20564034]]\n",
      "[[-0.77459667  0.77459667 -0.77459667 -0.57735027  1.29099445 -0.19159184\n",
      "  -1.07812594]\n",
      " [-0.77459667  0.77459667 -0.77459667  1.73205081 -0.77459667 -0.01411729\n",
      "  -0.07013168]\n",
      " [ 1.29099445 -1.29099445  1.29099445 -0.57735027 -0.77459667  0.56670851\n",
      "   0.63356243]\n",
      " [-0.77459667  0.77459667 -0.77459667 -0.57735027  1.29099445 -0.30453019\n",
      "  -0.30786617]\n",
      " [-0.77459667  0.77459667 -0.77459667 -0.57735027  1.29099445 -1.90180114\n",
      "  -1.42046362]\n",
      " [ 1.29099445 -1.29099445  1.29099445 -0.57735027 -0.77459667  1.14753431\n",
      "   1.23265336]\n",
      " [-0.77459667  0.77459667 -0.77459667  1.73205081 -0.77459667  1.43794721\n",
      "   1.57499104]\n",
      " [ 1.29099445 -1.29099445  1.29099445 -0.57735027 -0.77459667 -0.74014954\n",
      "  -0.56461943]]\n"
     ]
    }
   ],
   "source": [
    "from sklearn.preprocessing import StandardScaler #feature scaling uses\n",
    "sc = StandardScaler()\n",
    "X_train = sc.fit_transform(X_train)#here fit made  the mean  = 0 and the standard deviation == 1  and the other one calculate for the scaling purpose \n",
    "X_test = sc.transform(X_test)#this will ensure that the data should be on same scale as for the Train and testing data set \n",
    "print(X_test)\n",
    "print(X_train)"
   ]
  },
  {
   "cell_type": "code",
   "execution_count": null,
   "id": "8dde8326-89b4-45d7-a18a-ea360e2406b2",
   "metadata": {},
   "outputs": [],
   "source": []
  },
  {
   "cell_type": "code",
   "execution_count": null,
   "id": "18ec7db0-59ed-46c2-b268-e50e837d659c",
   "metadata": {},
   "outputs": [],
   "source": []
  }
 ],
 "metadata": {
  "kernelspec": {
   "display_name": "Python 3 (ipykernel)",
   "language": "python",
   "name": "python3"
  },
  "language_info": {
   "codemirror_mode": {
    "name": "ipython",
    "version": 3
   },
   "file_extension": ".py",
   "mimetype": "text/x-python",
   "name": "python",
   "nbconvert_exporter": "python",
   "pygments_lexer": "ipython3",
   "version": "3.11.7"
  }
 },
 "nbformat": 4,
 "nbformat_minor": 5
}
